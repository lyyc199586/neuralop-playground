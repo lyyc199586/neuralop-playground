{
 "cells": [
  {
   "cell_type": "code",
   "execution_count": null,
   "metadata": {},
   "outputs": [],
   "source": [
    "import torch\n",
    "import sys\n",
    "import wandb\n",
    "import matplotlib.pyplot as plt\n",
    "\n",
    "from neuralop.models import TransformerNO\n",
    "from neuralop import Trainer\n",
    "from neuralop.training import setup\n",
    "from neuralop.training.callbacks import MGPatchingCallback, SimpleWandBLoggerCallback\n",
    "from neuralop import LpLoss, H1Loss\n",
    "from neuralop.utils import count_model_params\n",
    "from neuralop.datasets import load_darcy_flow_small\n"
   ]
  }
 ],
 "metadata": {
  "kernelspec": {
   "display_name": "no",
   "language": "python",
   "name": "python3"
  },
  "language_info": {
   "codemirror_mode": {
    "name": "ipython",
    "version": 3
   },
   "file_extension": ".py",
   "mimetype": "text/x-python",
   "name": "python",
   "nbconvert_exporter": "python",
   "pygments_lexer": "ipython3",
   "version": "3.9.12"
  }
 },
 "nbformat": 4,
 "nbformat_minor": 2
}
