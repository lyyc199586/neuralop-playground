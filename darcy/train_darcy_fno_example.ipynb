{
 "cells": [
  {
   "cell_type": "markdown",
   "metadata": {},
   "source": [
    "# FNO on Darcy flow \n",
    "\n",
    "Use Fourier Neural Operator (FNO) to solve Darcy flow problem.\n",
    "We learn a mapping (operator) between a permeability field to the solution pressure field:\n",
    "\n",
    "$$\n",
    "-\\nabla \\cdot \\left( k(x) \\nabla u(x) \\right) = f(x), x\\in D,\n",
    "$$\n",
    "\n",
    "where $D$ is the domain, $k(x)$ is the permeability field, $u(x)$ is the pressure field, and $f(x)$ is the source term, the operator we want to learn: $\\mathcal{L}: k(x) \\mapsto u(x)$.\n",
    "\n",
    "Domain $D$ is a 2D square domain $[0, 1]^2$, and both fields ($k(x), u(x)$) are discretized into 2D matrix $\\mathbf{K}, \\mathbf{u} \\in \\mathbb{R}^{N\\times N}$"
   ]
  },
  {
   "cell_type": "code",
   "execution_count": 3,
   "metadata": {},
   "outputs": [],
   "source": [
    "# packages\n",
    "import torch\n",
    "import matplotlib.pyplot as plt\n",
    "import sys\n",
    "from neuralop.models import FNO\n",
    "from neuralop import Trainer\n",
    "from neuralop.training import AdamW\n",
    "from neuralop.data.datasets import load_darcy_flow_small\n",
    "from neuralop.utils import count_model_params\n",
    "from neuralop import LpLoss, H1Loss\n",
    "\n",
    "device = 'cpu'"
   ]
  },
  {
   "cell_type": "code",
   "execution_count": 4,
   "metadata": {},
   "outputs": [
    {
     "name": "stdout",
     "output_type": "stream",
     "text": [
      "Loading test db for resolution 16 with 100 samples \n",
      "Loading test db for resolution 32 with 50 samples \n"
     ]
    }
   ],
   "source": [
    "# load dataset\n",
    "train_loader, test_loaders, data_processor = load_darcy_flow_small(\n",
    "        n_train=1000, batch_size=32,\n",
    "        test_resolutions=[16, 32], n_tests=[100, 50],\n",
    "        test_batch_sizes=[32, 32],\n",
    ")\n",
    "data_processor = data_processor.to(device)"
   ]
  },
  {
   "cell_type": "code",
   "execution_count": 5,
   "metadata": {},
   "outputs": [
    {
     "name": "stdout",
     "output_type": "stream",
     "text": [
      "x.shape: torch.Size([1, 16, 16])\n",
      "y.shape: torch.Size([1, 16, 16])\n"
     ]
    },
    {
     "data": {
      "image/png": "[encoded data removed]",
      "text/plain": [
       "<Figure size 700x700 with 2 Axes>"
      ]
     },
     "metadata": {},
     "output_type": "display_data"
    }
   ],
   "source": [
    "# check dataset\n",
    "index = 0\n",
    "data = train_loader.dataset[index]\n",
    "x = data['x']\n",
    "y = data['y']\n",
    "print(f'x.shape: {x.shape}') # binary value (0 or 1), x grid, y grid\n",
    "print(f'y.shape: {y.shape}') # solution value, x grid, y grid\n",
    "\n",
    "# plot input x and input y\n",
    "fig = plt.figure(figsize=(7, 7))\n",
    "ax = fig.add_subplot(2, 2, 1)\n",
    "ax.annotate(f\"Index {index}\", xy=(-0.15, 0.5), \n",
    "             xycoords=\"axes fraction\",\n",
    "             ha=\"right\", va=\"center\", rotation=90)\n",
    "ax.imshow(x[0], cmap='gray')\n",
    "ax.set_title('input x: permeability field k(x)')\n",
    "ax = fig.add_subplot(2, 2, 2)\n",
    "ax.imshow(y.squeeze())\n",
    "ax.set_title('input y: pressure field u(x)')\n",
    "plt.show()"
   ]
  },
  {
   "cell_type": "code",
   "execution_count": 4,
   "metadata": {},
   "outputs": [
    {
     "name": "stdout",
     "output_type": "stream",
     "text": [
      "\n",
      "Our model has 1192801 parameters.\n"
     ]
    }
   ],
   "source": [
    "# model setup\n",
    "model = FNO(n_modes=(16, 16),\n",
    "             in_channels=1,\n",
    "             out_channels=1,\n",
    "             hidden_channels=32,\n",
    "             projection_channel_ratio=2)\n",
    "model = model.to(device)\n",
    "\n",
    "n_params = count_model_params(model)\n",
    "print(f'\\nOur model has {n_params} parameters.')\n",
    "sys.stdout.flush()"
   ]
  },
  {
   "cell_type": "code",
   "execution_count": 5,
   "metadata": {},
   "outputs": [
    {
     "name": "stdout",
     "output_type": "stream",
     "text": [
      "\n",
      "### MODEL ###\n",
      " FNO(\n",
      "  (positional_embedding): GridEmbeddingND()\n",
      "  (fno_blocks): FNOBlocks(\n",
      "    (convs): ModuleList(\n",
      "      (0-3): 4 x SpectralConv(\n",
      "        (weight): DenseTensor(shape=torch.Size([32, 32, 16, 9]), rank=None)\n",
      "      )\n",
      "    )\n",
      "    (fno_skips): ModuleList(\n",
      "      (0-3): 4 x Flattened1dConv(\n",
      "        (conv): Conv1d(32, 32, kernel_size=(1,), stride=(1,), bias=False)\n",
      "      )\n",
      "    )\n",
      "    (channel_mlp): ModuleList(\n",
      "      (0-3): 4 x ChannelMLP(\n",
      "        (fcs): ModuleList(\n",
      "          (0): Conv1d(32, 16, kernel_size=(1,), stride=(1,))\n",
      "          (1): Conv1d(16, 32, kernel_size=(1,), stride=(1,))\n",
      "        )\n",
      "      )\n",
      "    )\n",
      "    (channel_mlp_skips): ModuleList(\n",
      "      (0-3): 4 x SoftGating()\n",
      "    )\n",
      "  )\n",
      "  (lifting): ChannelMLP(\n",
      "    (fcs): ModuleList(\n",
      "      (0): Conv1d(3, 64, kernel_size=(1,), stride=(1,))\n",
      "      (1): Conv1d(64, 32, kernel_size=(1,), stride=(1,))\n",
      "    )\n",
      "  )\n",
      "  (projection): ChannelMLP(\n",
      "    (fcs): ModuleList(\n",
      "      (0): Conv1d(32, 64, kernel_size=(1,), stride=(1,))\n",
      "      (1): Conv1d(64, 1, kernel_size=(1,), stride=(1,))\n",
      "    )\n",
      "  )\n",
      ")\n",
      "\n",
      "### OPTIMIZER ###\n",
      " AdamW (\n",
      "Parameter Group 0\n",
      "    betas: (0.9, 0.999)\n",
      "    correct_bias: True\n",
      "    eps: 1e-06\n",
      "    initial_lr: 0.008\n",
      "    lr: 0.008\n",
      "    weight_decay: 0.0001\n",
      ")\n",
      "\n",
      "### SCHEDULER ###\n",
      " <torch.optim.lr_scheduler.CosineAnnealingLR object at 0x000002BD79DFD130>\n",
      "\n",
      "### LOSSES ###\n",
      "\n",
      " * Train: <neuralop.losses.data_losses.H1Loss object at 0x000002BD79DFD430>\n",
      "\n",
      " * Test: {'h1': <neuralop.losses.data_losses.H1Loss object at 0x000002BD79DFD430>, 'l2': <neuralop.losses.data_losses.LpLoss object at 0x000002BD79DFDE50>}\n"
     ]
    }
   ],
   "source": [
    "# model setup\n",
    "optimizer = AdamW(model.parameters(),\n",
    "                                lr=8e-3,\n",
    "                                weight_decay=1e-4)\n",
    "scheduler = torch.optim.lr_scheduler.CosineAnnealingLR(optimizer, T_max=30)\n",
    "\n",
    "# loss functions\n",
    "l2loss = LpLoss(d=2, p=2)\n",
    "h1loss = H1Loss(d=2)\n",
    "\n",
    "train_loss = h1loss\n",
    "eval_losses={'h1': h1loss, 'l2': l2loss}\n",
    "\n",
    "\n",
    "print('\\n### MODEL ###\\n', model)\n",
    "print('\\n### OPTIMIZER ###\\n', optimizer)\n",
    "print('\\n### SCHEDULER ###\\n', scheduler)\n",
    "print('\\n### LOSSES ###')\n",
    "print(f'\\n * Train: {train_loss}')\n",
    "print(f'\\n * Test: {eval_losses}')\n",
    "sys.stdout.flush()"
   ]
  },
  {
   "cell_type": "code",
   "execution_count": 6,
   "metadata": {},
   "outputs": [
    {
     "name": "stdout",
     "output_type": "stream",
     "text": [
      "Training on 1000 samples\n",
      "Testing on [50, 50] samples         on resolutions [16, 32].\n",
      "Raw outputs of shape torch.Size([32, 1, 16, 16])\n",
      "[0] time=3.31, avg_loss=0.6300, train_err=19.6883\n",
      "Eval: 16_h1=0.3988, 16_l2=0.2653, 32_h1=0.5733, 32_l2=0.2822\n",
      "[Rank 0]: saved training state to ./ckpt/\n",
      "[1] time=3.51, avg_loss=0.3151, train_err=9.8456\n",
      "Eval: 16_h1=0.2946, 16_l2=0.2079, 32_h1=0.4789, 32_l2=0.2347\n",
      "[2] time=3.40, avg_loss=0.2528, train_err=7.9001\n",
      "Eval: 16_h1=0.2374, 16_l2=0.1698, 32_h1=0.4464, 32_l2=0.2008\n",
      "[3] time=3.27, avg_loss=0.2106, train_err=6.5807\n",
      "Eval: 16_h1=0.2111, 16_l2=0.1532, 32_h1=0.4449, 32_l2=0.1871\n",
      "[4] time=3.31, avg_loss=0.1884, train_err=5.8860\n",
      "Eval: 16_h1=0.2102, 16_l2=0.1524, 32_h1=0.4630, 32_l2=0.1870\n",
      "[5] time=3.29, avg_loss=0.1827, train_err=5.7087\n",
      "Eval: 16_h1=0.2529, 16_l2=0.1817, 32_h1=0.4696, 32_l2=0.2074\n",
      "[6] time=3.30, avg_loss=0.1883, train_err=5.8839\n",
      "Eval: 16_h1=0.2001, 16_l2=0.1396, 32_h1=0.4542, 32_l2=0.1730\n",
      "[7] time=3.35, avg_loss=0.1618, train_err=5.0571\n",
      "Eval: 16_h1=0.1987, 16_l2=0.1331, 32_h1=0.4656, 32_l2=0.1717\n",
      "[8] time=3.35, avg_loss=0.1533, train_err=4.7915\n",
      "Eval: 16_h1=0.2245, 16_l2=0.1553, 32_h1=0.4879, 32_l2=0.1769\n",
      "[9] time=3.23, avg_loss=0.1789, train_err=5.5895\n",
      "Eval: 16_h1=0.2220, 16_l2=0.1477, 32_h1=0.5105, 32_l2=0.1866\n",
      "[10] time=3.53, avg_loss=0.1628, train_err=5.0882\n",
      "Eval: 16_h1=0.2584, 16_l2=0.1921, 32_h1=0.4650, 32_l2=0.2065\n",
      "[Rank 0]: saved training state to ./ckpt/\n",
      "[11] time=3.40, avg_loss=0.1536, train_err=4.7999\n",
      "Eval: 16_h1=0.2146, 16_l2=0.1424, 32_h1=0.5082, 32_l2=0.1823\n",
      "[12] time=3.35, avg_loss=0.1442, train_err=4.5054\n",
      "Eval: 16_h1=0.2208, 16_l2=0.1357, 32_h1=0.5307, 32_l2=0.1872\n",
      "[13] time=3.28, avg_loss=0.1401, train_err=4.3791\n",
      "Eval: 16_h1=0.2179, 16_l2=0.1436, 32_h1=0.4764, 32_l2=0.1713\n",
      "[14] time=3.24, avg_loss=0.1288, train_err=4.0261\n",
      "Eval: 16_h1=0.2017, 16_l2=0.1259, 32_h1=0.4682, 32_l2=0.1631\n",
      "[15] time=3.49, avg_loss=0.1289, train_err=4.0295\n",
      "Eval: 16_h1=0.2122, 16_l2=0.1347, 32_h1=0.4952, 32_l2=0.1801\n",
      "[16] time=3.40, avg_loss=0.1323, train_err=4.1340\n",
      "Eval: 16_h1=0.2292, 16_l2=0.1399, 32_h1=0.5503, 32_l2=0.1952\n",
      "[17] time=3.35, avg_loss=0.1258, train_err=3.9313\n",
      "Eval: 16_h1=0.2009, 16_l2=0.1255, 32_h1=0.4921, 32_l2=0.1720\n",
      "[18] time=3.30, avg_loss=0.1046, train_err=3.2700\n",
      "Eval: 16_h1=0.2028, 16_l2=0.1275, 32_h1=0.4821, 32_l2=0.1680\n",
      "[19] time=3.22, avg_loss=0.0924, train_err=2.8888\n",
      "Eval: 16_h1=0.1952, 16_l2=0.1185, 32_h1=0.4854, 32_l2=0.1591\n"
     ]
    },
    {
     "data": {
      "text/plain": [
       "{'train_err': 2.8888168409466743,\n",
       " 'avg_loss': 0.09244213891029358,\n",
       " 'avg_lasso_loss': None,\n",
       " 'epoch_train_time': 3.222493499999999,\n",
       " '16_h1': tensor(0.1952),\n",
       " '16_l2': tensor(0.1185),\n",
       " '32_h1': tensor(0.4854),\n",
       " '32_l2': tensor(0.1591)}"
      ]
     },
     "execution_count": 6,
     "metadata": {},
     "output_type": "execute_result"
    }
   ],
   "source": [
    "# train\n",
    "trainer = Trainer(model=model, n_epochs=20,\n",
    "                  device=device,\n",
    "                  data_processor=data_processor,\n",
    "                  wandb_log=False,\n",
    "                  eval_interval=1,\n",
    "                  use_distributed=False,\n",
    "                  verbose=True)\n",
    "\n",
    "trainer.train(train_loader=train_loader,\n",
    "              test_loaders=test_loaders,\n",
    "              optimizer=optimizer,\n",
    "              scheduler=scheduler,\n",
    "              regularizer=False,\n",
    "              training_loss=train_loss,\n",
    "              eval_losses=eval_losses,\n",
    "              save_every=10,\n",
    "              save_dir=\"./ckpt/\")"
   ]
  },
  {
   "cell_type": "code",
   "execution_count": 7,
   "metadata": {},
   "outputs": [
    {
     "name": "stdout",
     "output_type": "stream",
     "text": [
      "FNO(\n",
      "  (positional_embedding): GridEmbeddingND()\n",
      "  (fno_blocks): FNOBlocks(\n",
      "    (convs): ModuleList(\n",
      "      (0-3): 4 x SpectralConv(\n",
      "        (weight): DenseTensor(shape=torch.Size([32, 32, 16, 9]), rank=None)\n",
      "      )\n",
      "    )\n",
      "    (fno_skips): ModuleList(\n",
      "      (0-3): 4 x Flattened1dConv(\n",
      "        (conv): Conv1d(32, 32, kernel_size=(1,), stride=(1,), bias=False)\n",
      "      )\n",
      "    )\n",
      "    (channel_mlp): ModuleList(\n",
      "      (0-3): 4 x ChannelMLP(\n",
      "        (fcs): ModuleList(\n",
      "          (0): Conv1d(32, 16, kernel_size=(1,), stride=(1,))\n",
      "          (1): Conv1d(16, 32, kernel_size=(1,), stride=(1,))\n",
      "        )\n",
      "      )\n",
      "    )\n",
      "    (channel_mlp_skips): ModuleList(\n",
      "      (0-3): 4 x SoftGating()\n",
      "    )\n",
      "  )\n",
      "  (lifting): ChannelMLP(\n",
      "    (fcs): ModuleList(\n",
      "      (0): Conv1d(3, 64, kernel_size=(1,), stride=(1,))\n",
      "      (1): Conv1d(64, 32, kernel_size=(1,), stride=(1,))\n",
      "    )\n",
      "  )\n",
      "  (projection): ChannelMLP(\n",
      "    (fcs): ModuleList(\n",
      "      (0): Conv1d(32, 64, kernel_size=(1,), stride=(1,))\n",
      "      (1): Conv1d(64, 1, kernel_size=(1,), stride=(1,))\n",
      "    )\n",
      "  )\n",
      ")\n"
     ]
    }
   ],
   "source": [
    "# save model\n",
    "print(model)\n",
    "torch.save(model.state_dict(), \"./model/fno.pt\")"
   ]
  },
  {
   "cell_type": "code",
   "execution_count": 8,
   "metadata": {},
   "outputs": [
    {
     "data": {
      "text/plain": [
       "FNO(\n",
       "  (positional_embedding): GridEmbeddingND()\n",
       "  (fno_blocks): FNOBlocks(\n",
       "    (convs): ModuleList(\n",
       "      (0-3): 4 x SpectralConv(\n",
       "        (weight): DenseTensor(shape=torch.Size([32, 32, 16, 9]), rank=None)\n",
       "      )\n",
       "    )\n",
       "    (fno_skips): ModuleList(\n",
       "      (0-3): 4 x Flattened1dConv(\n",
       "        (conv): Conv1d(32, 32, kernel_size=(1,), stride=(1,), bias=False)\n",
       "      )\n",
       "    )\n",
       "    (channel_mlp): ModuleList(\n",
       "      (0-3): 4 x ChannelMLP(\n",
       "        (fcs): ModuleList(\n",
       "          (0): Conv1d(32, 16, kernel_size=(1,), stride=(1,))\n",
       "          (1): Conv1d(16, 32, kernel_size=(1,), stride=(1,))\n",
       "        )\n",
       "      )\n",
       "    )\n",
       "    (channel_mlp_skips): ModuleList(\n",
       "      (0-3): 4 x SoftGating()\n",
       "    )\n",
       "  )\n",
       "  (lifting): ChannelMLP(\n",
       "    (fcs): ModuleList(\n",
       "      (0): Conv1d(3, 64, kernel_size=(1,), stride=(1,))\n",
       "      (1): Conv1d(64, 32, kernel_size=(1,), stride=(1,))\n",
       "    )\n",
       "  )\n",
       "  (projection): ChannelMLP(\n",
       "    (fcs): ModuleList(\n",
       "      (0): Conv1d(32, 64, kernel_size=(1,), stride=(1,))\n",
       "      (1): Conv1d(64, 1, kernel_size=(1,), stride=(1,))\n",
       "    )\n",
       "  )\n",
       ")"
      ]
     },
     "execution_count": 8,
     "metadata": {},
     "output_type": "execute_result"
    }
   ],
   "source": [
    "# reload model\n",
    "model_reload = FNO(\n",
    "    n_modes=(16,16),\n",
    "    in_channels=1,\n",
    "    out_channels=1,\n",
    "    hidden_channels=32,\n",
    "    projection_channel_ratio=2\n",
    ")\n",
    "model_reload.load_state_dict(torch.load(\"./model/fno.pt\", weights_only=False))\n",
    "model_reload.eval()"
   ]
  },
  {
   "cell_type": "code",
   "execution_count": 10,
   "metadata": {},
   "outputs": [
    {
     "name": "stderr",
     "output_type": "stream",
     "text": [
      "C:\\Users\\liuya\\AppData\\Local\\Temp\\ipykernel_10776\\3039740133.py:40: UserWarning: FigureCanvasAgg is non-interactive, and thus cannot be shown\n",
      "  fig.show()\n"
     ]
    },
    {
     "data": {
      "image/png": "[encoded data removed]",
      "text/plain": [
       "<Figure size 700x700 with 9 Axes>"
      ]
     },
     "metadata": {},
     "output_type": "display_data"
    }
   ],
   "source": [
    "# model_use = model\n",
    "model_use = model_reload\n",
    "\n",
    "test_samples = test_loaders[16].dataset\n",
    "\n",
    "fig = plt.figure(figsize=(7, 7))\n",
    "for index in range(3):\n",
    "    data = test_samples[index]\n",
    "    data = data_processor.preprocess(data, batched=False)\n",
    "    # Input x\n",
    "    x = data['x']\n",
    "    # Ground-truth\n",
    "    y = data['y']\n",
    "    # Model prediction\n",
    "    out = model_use(x.unsqueeze(0))\n",
    "\n",
    "    ax = fig.add_subplot(3, 3, index*3 + 1)\n",
    "    ax.imshow(x[0], cmap='gray')\n",
    "    if index == 0:\n",
    "        ax.set_title('Input x')\n",
    "    plt.xticks([], [])\n",
    "    plt.yticks([], [])\n",
    "\n",
    "    ax = fig.add_subplot(3, 3, index*3 + 2)\n",
    "    ax.imshow(y.squeeze())\n",
    "    if index == 0:\n",
    "        ax.set_title('Ground-truth y')\n",
    "    plt.xticks([], [])\n",
    "    plt.yticks([], [])\n",
    "\n",
    "    ax = fig.add_subplot(3, 3, index*3 + 3)\n",
    "    ax.imshow(out.squeeze().detach().numpy())\n",
    "    if index == 0:\n",
    "        ax.set_title('Model prediction')\n",
    "    plt.xticks([], [])\n",
    "    plt.yticks([], [])\n",
    "\n",
    "fig.suptitle('Inputs, ground-truth output and prediction (16x16).', y=0.98)\n",
    "plt.tight_layout()\n",
    "fig.show()"
   ]
  },
  {
   "cell_type": "code",
   "execution_count": 11,
   "metadata": {},
   "outputs": [
    {
     "name": "stderr",
     "output_type": "stream",
     "text": [
      "C:\\Users\\liuya\\AppData\\Local\\Temp\\ipykernel_10776\\1819670737.py:40: UserWarning: FigureCanvasAgg is non-interactive, and thus cannot be shown\n",
      "  fig.show()\n"
     ]
    },
    {
     "data": {
      "image/png": "[encoded data removed]",
      "text/plain": [
       "<Figure size 700x700 with 9 Axes>"
      ]
     },
     "metadata": {},
     "output_type": "display_data"
    }
   ],
   "source": [
    "# model_use = model\n",
    "model_use = model_reload\n",
    "\n",
    "test_samples = test_loaders[32].dataset\n",
    "\n",
    "fig = plt.figure(figsize=(7, 7))\n",
    "for index in range(3):\n",
    "    data = test_samples[index]\n",
    "    data = data_processor.preprocess(data, batched=False)\n",
    "    # Input x\n",
    "    x = data['x']\n",
    "    # Ground-truth\n",
    "    y = data['y']\n",
    "    # Model prediction\n",
    "    out = model_use(x.unsqueeze(0))\n",
    "\n",
    "    ax = fig.add_subplot(3, 3, index*3 + 1)\n",
    "    ax.imshow(x[0], cmap='gray')\n",
    "    if index == 0:\n",
    "        ax.set_title('Input x')\n",
    "    plt.xticks([], [])\n",
    "    plt.yticks([], [])\n",
    "\n",
    "    ax = fig.add_subplot(3, 3, index*3 + 2)\n",
    "    ax.imshow(y.squeeze())\n",
    "    if index == 0:\n",
    "        ax.set_title('Ground-truth y')\n",
    "    plt.xticks([], [])\n",
    "    plt.yticks([], [])\n",
    "\n",
    "    ax = fig.add_subplot(3, 3, index*3 + 3)\n",
    "    ax.imshow(out.squeeze().detach().numpy())\n",
    "    if index == 0:\n",
    "        ax.set_title('Model prediction')\n",
    "    plt.xticks([], [])\n",
    "    plt.yticks([], [])\n",
    "\n",
    "fig.suptitle('Inputs, ground-truth output and prediction (16x16).', y=0.98)\n",
    "plt.tight_layout()\n",
    "fig.show()"
   ]
  }
 ],
 "metadata": {
  "kernelspec": {
   "display_name": "no",
   "language": "python",
   "name": "python3"
  },
  "language_info": {
   "codemirror_mode": {
    "name": "ipython",
    "version": 3
   },
   "file_extension": ".py",
   "mimetype": "text/x-python",
   "name": "python",
   "nbconvert_exporter": "python",
   "pygments_lexer": "ipython3",
   "version": "3.9.12"
  }
 },
 "nbformat": 4,
 "nbformat_minor": 2
}
