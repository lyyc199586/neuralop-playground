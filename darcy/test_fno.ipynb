{
 "cells": [
  {
   "cell_type": "markdown",
   "metadata": {},
   "source": [
    "# FNO on Darcy flow \n",
    "\n",
    "Use Fourier Neural Operator (FNO) to solve Darcy flow problem.\n",
    "We learn a mapping (operator) between a permeability field to the solution pressure field:\n",
    "\n",
    "$$\n",
    "-\\nabla \\cdot \\left( k(x) \\nabla u(x) \\right) = f(x), x\\in D,\n",
    "$$\n",
    "\n",
    "where $D$ is the domain, $k(x)$ is the permeability field, $u(x)$ is the pressure field, and $f(x)$ is the source term, the operator we want to learn: $\\mathcal{L}: k(x) \\to u(x)$.\n",
    "\n",
    "Domain $D$ is a 2D square domain $[0, 1]^2$, and both fields ($k(x), u(x)$) are discretized into 2D matrix $\\mathbf{K}, \\mathbf{u} \\in \\mathbb{R}^{N\\times N}$"
   ]
  },
  {
   "cell_type": "code",
   "execution_count": 3,
   "metadata": {},
   "outputs": [],
   "source": [
    "# packages\n",
    "import torch\n",
    "import matplotlib.pyplot as plt\n",
    "import sys\n",
    "from neuralop.models import FNO\n",
    "from neuralop import Trainer\n",
    "from neuralop.training import AdamW\n",
    "from neuralop.data.datasets import load_darcy_flow_small\n",
    "from neuralop.utils import count_model_params\n",
    "from neuralop import LpLoss, H1Loss\n",
    "\n",
    "device = 'cpu'"
   ]
  },
  {
   "cell_type": "code",
   "execution_count": 4,
   "metadata": {},
   "outputs": [
    {
     "name": "stdout",
     "output_type": "stream",
     "text": [
      "Loading test db for resolution 16 with 100 samples \n",
      "Loading test db for resolution 32 with 50 samples \n"
     ]
    }
   ],
   "source": [
    "# load dataset\n",
    "train_loader, test_loaders, data_processor = load_darcy_flow_small(\n",
    "        n_train=1000, batch_size=32,\n",
    "        test_resolutions=[16, 32], n_tests=[100, 50],\n",
    "        test_batch_sizes=[32, 32],\n",
    ")\n",
    "data_processor = data_processor.to(device)"
   ]
  },
  {
   "cell_type": "code",
   "execution_count": 12,
   "metadata": {},
   "outputs": [
    {
     "name": "stdout",
     "output_type": "stream",
     "text": [
      "x.shape: torch.Size([1, 16, 16])\n",
      "y.shape: torch.Size([1, 16, 16])\n"
     ]
    },
    {
     "data": {
      "image/png": "[encoded data removed]",
      "text/plain": [
       "<Figure size 700x700 with 2 Axes>"
      ]
     },
     "metadata": {},
     "output_type": "display_data"
    }
   ],
   "source": [
    "# check dataset\n",
    "index = 0\n",
    "data = train_loader.dataset[index]\n",
    "x = data['x']\n",
    "y = data['y']\n",
    "print(f'x.shape: {x.shape}') # binary value (0 or 1), x grid, y grid\n",
    "print(f'y.shape: {y.shape}') # solution value, x grid, y grid\n",
    "\n",
    "# plot input x and input y\n",
    "fig = plt.figure(figsize=(7, 7))\n",
    "ax = fig.add_subplot(2, 2, 1)\n",
    "ax.imshow(x[0], cmap='gray')\n",
    "ax.set_title('input x: permeability field k(x)')\n",
    "ax = fig.add_subplot(2, 2, 2)\n",
    "ax.imshow(y.squeeze())\n",
    "ax.set_title('input y: pressure field u(x)')\n",
    "plt.show()"
   ]
  },
  {
   "cell_type": "code",
   "execution_count": 15,
   "metadata": {},
   "outputs": [
    {
     "name": "stdout",
     "output_type": "stream",
     "text": [
      "\n",
      "Our model has 1192801 parameters.\n"
     ]
    }
   ],
   "source": [
    "# model setup\n",
    "model = FNO(n_modes=(16, 16),\n",
    "             in_channels=1,\n",
    "             out_channels=1,\n",
    "             hidden_channels=32,\n",
    "             projection_channel_ratio=2)\n",
    "model = model.to(device)\n",
    "\n",
    "n_params = count_model_params(model)\n",
    "print(f'\\nOur model has {n_params} parameters.')\n",
    "sys.stdout.flush()"
   ]
  },
  {
   "cell_type": "code",
   "execution_count": 16,
   "metadata": {},
   "outputs": [
    {
     "name": "stdout",
     "output_type": "stream",
     "text": [
      "\n",
      "### MODEL ###\n",
      " FNO(\n",
      "  (positional_embedding): GridEmbeddingND()\n",
      "  (fno_blocks): FNOBlocks(\n",
      "    (convs): ModuleList(\n",
      "      (0-3): 4 x SpectralConv(\n",
      "        (weight): DenseTensor(shape=torch.Size([32, 32, 16, 9]), rank=None)\n",
      "      )\n",
      "    )\n",
      "    (fno_skips): ModuleList(\n",
      "      (0-3): 4 x Flattened1dConv(\n",
      "        (conv): Conv1d(32, 32, kernel_size=(1,), stride=(1,), bias=False)\n",
      "      )\n",
      "    )\n",
      "    (channel_mlp): ModuleList(\n",
      "      (0-3): 4 x ChannelMLP(\n",
      "        (fcs): ModuleList(\n",
      "          (0): Conv1d(32, 16, kernel_size=(1,), stride=(1,))\n",
      "          (1): Conv1d(16, 32, kernel_size=(1,), stride=(1,))\n",
      "        )\n",
      "      )\n",
      "    )\n",
      "    (channel_mlp_skips): ModuleList(\n",
      "      (0-3): 4 x SoftGating()\n",
      "    )\n",
      "  )\n",
      "  (lifting): ChannelMLP(\n",
      "    (fcs): ModuleList(\n",
      "      (0): Conv1d(3, 64, kernel_size=(1,), stride=(1,))\n",
      "      (1): Conv1d(64, 32, kernel_size=(1,), stride=(1,))\n",
      "    )\n",
      "  )\n",
      "  (projection): ChannelMLP(\n",
      "    (fcs): ModuleList(\n",
      "      (0): Conv1d(32, 64, kernel_size=(1,), stride=(1,))\n",
      "      (1): Conv1d(64, 1, kernel_size=(1,), stride=(1,))\n",
      "    )\n",
      "  )\n",
      ")\n",
      "\n",
      "### OPTIMIZER ###\n",
      " AdamW (\n",
      "Parameter Group 0\n",
      "    betas: (0.9, 0.999)\n",
      "    correct_bias: True\n",
      "    eps: 1e-06\n",
      "    initial_lr: 0.008\n",
      "    lr: 0.008\n",
      "    weight_decay: 0.0001\n",
      ")\n",
      "\n",
      "### SCHEDULER ###\n",
      " <torch.optim.lr_scheduler.CosineAnnealingLR object at 0x000001E8CAA09700>\n",
      "\n",
      "### LOSSES ###\n",
      "\n",
      " * Train: <neuralop.losses.data_losses.H1Loss object at 0x000001E8C9A6F580>\n",
      "\n",
      " * Test: {'h1': <neuralop.losses.data_losses.H1Loss object at 0x000001E8C9A6F580>, 'l2': <neuralop.losses.data_losses.LpLoss object at 0x000001E8DEACDD30>}\n"
     ]
    }
   ],
   "source": [
    "# model setup\n",
    "optimizer = AdamW(model.parameters(),\n",
    "                                lr=8e-3,\n",
    "                                weight_decay=1e-4)\n",
    "scheduler = torch.optim.lr_scheduler.CosineAnnealingLR(optimizer, T_max=30)\n",
    "\n",
    "# loss functions\n",
    "l2loss = LpLoss(d=2, p=2)\n",
    "h1loss = H1Loss(d=2)\n",
    "\n",
    "train_loss = h1loss\n",
    "eval_losses={'h1': h1loss, 'l2': l2loss}\n",
    "\n",
    "\n",
    "print('\\n### MODEL ###\\n', model)\n",
    "print('\\n### OPTIMIZER ###\\n', optimizer)\n",
    "print('\\n### SCHEDULER ###\\n', scheduler)\n",
    "print('\\n### LOSSES ###')\n",
    "print(f'\\n * Train: {train_loss}')\n",
    "print(f'\\n * Test: {eval_losses}')\n",
    "sys.stdout.flush()"
   ]
  },
  {
   "cell_type": "code",
   "execution_count": 17,
   "metadata": {},
   "outputs": [
    {
     "name": "stdout",
     "output_type": "stream",
     "text": [
      "Training on 1000 samples\n",
      "Testing on [50, 50] samples         on resolutions [16, 32].\n",
      "Raw outputs of shape torch.Size([32, 1, 16, 16])\n",
      "[0] time=3.24, avg_loss=0.6611, train_err=20.6603\n",
      "Eval: 16_h1=0.3920, 16_l2=0.2611, 32_h1=0.5924, 32_l2=0.2818\n",
      "[3] time=3.27, avg_loss=0.2046, train_err=6.3924\n",
      "Eval: 16_h1=0.2150, 16_l2=0.1439, 32_h1=0.5070, 32_l2=0.1786\n",
      "[6] time=3.20, avg_loss=0.1770, train_err=5.5320\n",
      "Eval: 16_h1=0.1987, 16_l2=0.1286, 32_h1=0.5253, 32_l2=0.1787\n",
      "[9] time=3.24, avg_loss=0.1592, train_err=4.9759\n",
      "Eval: 16_h1=0.2616, 16_l2=0.1921, 32_h1=0.5233, 32_l2=0.2109\n",
      "[12] time=3.42, avg_loss=0.1175, train_err=3.6723\n",
      "Eval: 16_h1=0.2013, 16_l2=0.1273, 32_h1=0.5219, 32_l2=0.1708\n",
      "[15] time=3.41, avg_loss=0.1247, train_err=3.8961\n",
      "Eval: 16_h1=0.2107, 16_l2=0.1239, 32_h1=0.4836, 32_l2=0.1555\n",
      "[18] time=3.45, avg_loss=0.1021, train_err=3.1903\n",
      "Eval: 16_h1=0.1928, 16_l2=0.1132, 32_h1=0.5367, 32_l2=0.1687\n"
     ]
    },
    {
     "data": {
      "text/plain": [
       "{'train_err': 2.6738568414002657,\n",
       " 'avg_loss': 0.0855634189248085,\n",
       " 'avg_lasso_loss': None,\n",
       " 'epoch_train_time': 3.3950801999999385}"
      ]
     },
     "execution_count": 17,
     "metadata": {},
     "output_type": "execute_result"
    }
   ],
   "source": [
    "# train\n",
    "trainer = Trainer(model=model, n_epochs=20,\n",
    "                  device=device,\n",
    "                  data_processor=data_processor,\n",
    "                  wandb_log=False,\n",
    "                  eval_interval=3,\n",
    "                  use_distributed=False,\n",
    "                  verbose=True)\n",
    "\n",
    "trainer.train(train_loader=train_loader,\n",
    "              test_loaders=test_loaders,\n",
    "              optimizer=optimizer,\n",
    "              scheduler=scheduler,\n",
    "              regularizer=False,\n",
    "              training_loss=train_loss,\n",
    "              eval_losses=eval_losses)"
   ]
  },
  {
   "cell_type": "code",
   "execution_count": null,
   "metadata": {},
   "outputs": [
    {
     "ename": "NameError",
     "evalue": "name 'test_loaders' is not defined",
     "output_type": "error",
     "traceback": [
      "\u001b[1;31m---------------------------------------------------------------------------\u001b[0m",
      "\u001b[1;31mNameError\u001b[0m                                 Traceback (most recent call last)",
      "Cell \u001b[1;32mIn[2], line 2\u001b[0m\n\u001b[0;32m      1\u001b[0m \u001b[38;5;66;03m# prediction on finer discretization\u001b[39;00m\n\u001b[1;32m----> 2\u001b[0m test_samples \u001b[38;5;241m=\u001b[39m \u001b[43mtest_loaders\u001b[49m[\u001b[38;5;241m32\u001b[39m]\u001b[38;5;241m.\u001b[39mdataset\n\u001b[0;32m      4\u001b[0m fig \u001b[38;5;241m=\u001b[39m plt\u001b[38;5;241m.\u001b[39mfigure(figsize\u001b[38;5;241m=\u001b[39m(\u001b[38;5;241m7\u001b[39m, \u001b[38;5;241m7\u001b[39m))\n\u001b[0;32m      5\u001b[0m \u001b[38;5;28;01mfor\u001b[39;00m index \u001b[38;5;129;01min\u001b[39;00m \u001b[38;5;28mrange\u001b[39m(\u001b[38;5;241m3\u001b[39m):\n",
      "\u001b[1;31mNameError\u001b[0m: name 'test_loaders' is not defined"
     ]
    }
   ],
   "source": [
    "# prediction on finer discretization\n",
    "test_samples = test_loaders[32].dataset\n",
    "\n",
    "fig = plt.figure(figsize=(7, 7))\n",
    "for index in range(3):\n",
    "    data = test_samples[index]\n",
    "    data = data_processor.preprocess(data, batched=False)\n",
    "    # Input x\n",
    "    x = data['x']\n",
    "    # Ground-truth\n",
    "    y = data['y']\n",
    "    # Model prediction\n",
    "    out = model(x.unsqueeze(0))\n",
    "\n",
    "    ax = fig.add_subplot(3, 3, index*3 + 1)\n",
    "    ax.imshow(x[0], cmap='gray')\n",
    "    if index == 0:\n",
    "        ax.set_title('Input x')\n",
    "    plt.xticks([], [])\n",
    "    plt.yticks([], [])\n",
    "\n",
    "    ax = fig.add_subplot(3, 3, index*3 + 2)\n",
    "    ax.imshow(y.squeeze())\n",
    "    if index == 0:\n",
    "        ax.set_title('Ground-truth y')\n",
    "    plt.xticks([], [])\n",
    "    plt.yticks([], [])\n",
    "\n",
    "    ax = fig.add_subplot(3, 3, index*3 + 3)\n",
    "    ax.imshow(out.squeeze().detach().numpy())\n",
    "    if index == 0:\n",
    "        ax.set_title('Model prediction')\n",
    "    plt.xticks([], [])\n",
    "    plt.yticks([], [])\n",
    "\n",
    "fig.suptitle('Inputs, ground-truth output and prediction (32x32).', y=0.98)\n",
    "plt.tight_layout()\n",
    "fig.show()"
   ]
  }
 ],
 "metadata": {
  "kernelspec": {
   "display_name": "no",
   "language": "python",
   "name": "python3"
  },
  "language_info": {
   "codemirror_mode": {
    "name": "ipython",
    "version": 3
   },
   "file_extension": ".py",
   "mimetype": "text/x-python",
   "name": "python",
   "nbconvert_exporter": "python",
   "pygments_lexer": "ipython3",
   "version": "3.9.12"
  }
 },
 "nbformat": 4,
 "nbformat_minor": 2
}
