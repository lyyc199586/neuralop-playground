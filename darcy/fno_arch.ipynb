{
 "cells": [
  {
   "cell_type": "code",
   "execution_count": 1,
   "metadata": {},
   "outputs": [
    {
     "name": "stdout",
     "output_type": "stream",
     "text": [
      "dict_keys(['fno_blocks.convs.0.bias', 'fno_blocks.convs.0.weight.tensor', 'fno_blocks.convs.1.bias', 'fno_blocks.convs.1.weight.tensor', 'fno_blocks.convs.2.bias', 'fno_blocks.convs.2.weight.tensor', 'fno_blocks.convs.3.bias', 'fno_blocks.convs.3.weight.tensor', 'fno_blocks.fno_skips.0.conv.weight', 'fno_blocks.fno_skips.1.conv.weight', 'fno_blocks.fno_skips.2.conv.weight', 'fno_blocks.fno_skips.3.conv.weight', 'fno_blocks.channel_mlp.0.fcs.0.weight', 'fno_blocks.channel_mlp.0.fcs.0.bias', 'fno_blocks.channel_mlp.0.fcs.1.weight', 'fno_blocks.channel_mlp.0.fcs.1.bias', 'fno_blocks.channel_mlp.1.fcs.0.weight', 'fno_blocks.channel_mlp.1.fcs.0.bias', 'fno_blocks.channel_mlp.1.fcs.1.weight', 'fno_blocks.channel_mlp.1.fcs.1.bias', 'fno_blocks.channel_mlp.2.fcs.0.weight', 'fno_blocks.channel_mlp.2.fcs.0.bias', 'fno_blocks.channel_mlp.2.fcs.1.weight', 'fno_blocks.channel_mlp.2.fcs.1.bias', 'fno_blocks.channel_mlp.3.fcs.0.weight', 'fno_blocks.channel_mlp.3.fcs.0.bias', 'fno_blocks.channel_mlp.3.fcs.1.weight', 'fno_blocks.channel_mlp.3.fcs.1.bias', 'fno_blocks.channel_mlp_skips.0.weight', 'fno_blocks.channel_mlp_skips.1.weight', 'fno_blocks.channel_mlp_skips.2.weight', 'fno_blocks.channel_mlp_skips.3.weight', 'lifting.fcs.0.weight', 'lifting.fcs.0.bias', 'lifting.fcs.1.weight', 'lifting.fcs.1.bias', 'projection.fcs.0.weight', 'projection.fcs.0.bias', 'projection.fcs.1.weight', 'projection.fcs.1.bias'])\n"
     ]
    },
    {
     "data": {
      "text/plain": [
       "'fno_arch.png'"
      ]
     },
     "execution_count": 1,
     "metadata": {},
     "output_type": "execute_result"
    }
   ],
   "source": [
    "import torch\n",
    "from neuralop.models import FNO3d\n",
    "from torchviz import make_dot, make_dot_from_trace\n",
    "\n",
    "modesx, modesy, modesz = 8,8,8\n",
    "n_layers = 4\n",
    "in_channels = 3\n",
    "out_channels = 3\n",
    "hidden_channels = 20;\n",
    "use_mlp=True;\n",
    "\n",
    "x = torch.randn(1,in_channels,32,32,10)\n",
    "\n",
    "model =  FNO3d(modesx, modesy, modesz,n_layers=n_layers, in_channels=in_channels,out_channels=out_channels,hidden_channels=hidden_channels,\n",
    "               use_mlp=use_mlp)\n",
    "\n",
    "y = model(x)\n",
    "\n",
    "\n",
    "print( dict(model.named_parameters()).keys() )\n",
    "dot = make_dot(y.mean(), params=dict(model.named_parameters()))\n",
    "dot.format = 'png'\n",
    "dot.render('fno_arch')"
   ]
  }
 ],
 "metadata": {
  "kernelspec": {
   "display_name": "no",
   "language": "python",
   "name": "python3"
  },
  "language_info": {
   "codemirror_mode": {
    "name": "ipython",
    "version": 3
   },
   "file_extension": ".py",
   "mimetype": "text/x-python",
   "name": "python",
   "nbconvert_exporter": "python",
   "pygments_lexer": "ipython3",
   "version": "3.9.12"
  }
 },
 "nbformat": 4,
 "nbformat_minor": 2
}
