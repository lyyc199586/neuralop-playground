{
 "cells": [
  {
   "cell_type": "markdown",
   "metadata": {},
   "source": [
    "# Generate Masks \n",
    "\n",
    "Pre-define 10 masks: 1 + range(4, 16)\n",
    "Rules:  place 1 sensor on top boundary, on the right boundary, no two sensors are adjacent to each other \n"
   ]
  },
  {
   "cell_type": "code",
   "execution_count": 1,
   "metadata": {},
   "outputs": [
    {
     "name": "stderr",
     "output_type": "stream",
     "text": [
      "c:\\workspace\\no_playground\\neuralop-playground\\nopkit_pkg\\nopkit\\mask.py:93: UserWarning: Creating a tensor from a list of numpy.ndarrays is extremely slow. Please consider converting the list to a single numpy.ndarray with numpy.array() before converting to a tensor. (Triggered internally at C:\\actions-runner\\_work\\pytorch\\pytorch\\builder\\windows\\pytorch\\torch\\csrc\\utils\\tensor_new.cpp:281.)\n",
      "  self.masks = torch.tensor(mask_list, dtype=torch.float32)\n"
     ]
    }
   ],
   "source": [
    "\n",
    "from nopkit.mask import MaskGenerator\n",
    "\n",
    "n_masks = 5\n",
    "sensor_range=(4,17)\n",
    "gen = MaskGenerator(grid_shape=(32, 32))\n",
    "gen.generate_random(n_masks=n_masks, n_sensors_range=(4, 17), top_position=(31, 16))\n",
    "gen.save(save_path=f\"../data/damage_sensor/masks{n_masks}_range{sensor_range[0]}_{sensor_range[1]}.pt\")"
   ]
  },
  {
   "cell_type": "code",
   "execution_count": 2,
   "metadata": {},
   "outputs": [
    {
     "name": "stderr",
     "output_type": "stream",
     "text": [
      "C:\\Users\\liuya\\AppData\\Local\\Temp\\ipykernel_18872\\883019813.py:4: FutureWarning: You are using `torch.load` with `weights_only=False` (the current default value), which uses the default pickle module implicitly. It is possible to construct malicious pickle data which will execute arbitrary code during unpickling (See https://github.com/pytorch/pytorch/blob/main/SECURITY.md#untrusted-models for more details). In a future release, the default value for `weights_only` will be flipped to `True`. This limits the functions that could be executed during unpickling. Arbitrary objects will no longer be allowed to be loaded via this mode unless they are explicitly allowlisted by the user via `torch.serialization.add_safe_globals`. We recommend you start setting `weights_only=True` for any use case where you don't have full control of the loaded file. Please open an issue on GitHub for any issues related to this experimental feature.\n",
      "  masks = torch.load(\"../data/damage_sensor/masks5_range4_17.pt\")\n"
     ]
    },
    {
     "data": {
      "image/png": "[encoded data removed]",
      "text/plain": [
       "<Figure size 1500x600 with 5 Axes>"
      ]
     },
     "metadata": {},
     "output_type": "display_data"
    }
   ],
   "source": [
    "import torch\n",
    "import matplotlib.pyplot as plt\n",
    "\n",
    "masks = torch.load(\"../data/damage_sensor/masks5_range4_17.pt\")\n",
    "\n",
    "fig, axs = plt.subplots(1, 5, figsize=(15, 6))\n",
    "for i, ax in enumerate(axs.flatten()):\n",
    "    mask = masks[i]\n",
    "    n_sensors = int(mask.sum().item())\n",
    "    ax.imshow(mask, cmap=\"gray_r\", origin=\"lower\")\n",
    "    ax.set_title(f\"Mask {i+1}: {n_sensors} sensors\")\n",
    "    ax.set_xticks([])\n",
    "    ax.set_yticks([])"
   ]
  }
 ],
 "metadata": {
  "kernelspec": {
   "display_name": "no",
   "language": "python",
   "name": "python3"
  },
  "language_info": {
   "codemirror_mode": {
    "name": "ipython",
    "version": 3
   },
   "file_extension": ".py",
   "mimetype": "text/x-python",
   "name": "python",
   "nbconvert_exporter": "python",
   "pygments_lexer": "ipython3",
   "version": "3.9.12"
  }
 },
 "nbformat": 4,
 "nbformat_minor": 2
}
