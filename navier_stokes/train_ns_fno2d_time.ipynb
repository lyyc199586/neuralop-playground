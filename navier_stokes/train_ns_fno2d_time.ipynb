{
 "cells": [
  {
   "cell_type": "markdown",
   "metadata": {},
   "source": [
    "# FNO2D + time for 2D Navier-Stokes\n",
    "\n",
    "> See [base example](./train_ns_fno_example.ipynb) for single time step prediction.\n",
    "\n",
    "> [Original script](../scripts/fourier_2d_time.py) by Zongyi Li \n",
    "\n",
    "For example, givin data on $t\\in[0, 9]\\times x \\times y$,\n",
    "we use $u(x, y, t-10, .., t-1)$ to predict $u(t)$, than move 1 step forward: use $u(x, y, t-9, .., t)$ to predict $u(t+1)$, etc.\n",
    "\n",
    "i.e.\n",
    "$$\n",
    "\\mathcal{L}: w(x,t\\in[0, T]) \\mapsto w(x, t\\in[T, 2T]).\n",
    "$$\n",
    "\n",
    "\n",
    "This can be used iteratively to predict further time steps (like to $[2T, 3T]$, and $[3T, 4T]$, ...).\n",
    "\n",
    "- Input channels: 2 (space dim) +10 (time steps) + 1 (vorticity)\n",
    "- Output channels: 1 (vorticity)"
   ]
  },
  {
   "cell_type": "code",
   "execution_count": null,
   "metadata": {
    "vscode": {
     "languageId": "plaintext"
    }
   },
   "outputs": [],
   "source": []
  }
 ],
 "metadata": {
  "language_info": {
   "name": "python"
  }
 },
 "nbformat": 4,
 "nbformat_minor": 2
}
